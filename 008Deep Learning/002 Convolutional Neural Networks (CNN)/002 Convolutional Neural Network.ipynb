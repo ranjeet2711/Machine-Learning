{
 "cells": [
  {
   "cell_type": "markdown",
   "metadata": {},
   "source": [
    "# Convolutional Neural Network"
   ]
  },
  {
   "cell_type": "markdown",
   "metadata": {},
   "source": [
    "## Part 1 - Building the CNN"
   ]
  },
  {
   "cell_type": "markdown",
   "metadata": {},
   "source": [
    "## Importing the Keras libraries and packages"
   ]
  },
  {
   "cell_type": "code",
   "execution_count": 1,
   "metadata": {},
   "outputs": [
    {
     "name": "stderr",
     "output_type": "stream",
     "text": [
      "Using TensorFlow backend.\n"
     ]
    }
   ],
   "source": [
    "from keras.models import Sequential\n",
    "from keras.layers import Convolution2D\n",
    "from keras.layers import MaxPooling2D\n",
    "from keras.layers import Flatten\n",
    "from keras.layers import Dense"
   ]
  },
  {
   "cell_type": "markdown",
   "metadata": {},
   "source": [
    "# Initialising the CNN\n"
   ]
  },
  {
   "cell_type": "code",
   "execution_count": 7,
   "metadata": {},
   "outputs": [],
   "source": [
    "classifier = Sequential()"
   ]
  },
  {
   "cell_type": "markdown",
   "metadata": {},
   "source": [
    "# Step 1 - Convolution\n"
   ]
  },
  {
   "cell_type": "code",
   "execution_count": 8,
   "metadata": {},
   "outputs": [
    {
     "name": "stderr",
     "output_type": "stream",
     "text": [
      "C:\\ProgramData\\Anaconda3\\lib\\site-packages\\ipykernel_launcher.py:1: UserWarning: Update your `Conv2D` call to the Keras 2 API: `Conv2D(32, (3, 3), input_shape=(64, 64, 3..., activation=\"relu\")`\n",
      "  \"\"\"Entry point for launching an IPython kernel.\n"
     ]
    }
   ],
   "source": [
    "classifier.add(Convolution2D(32, 3, 3, input_shape = (64, 64, 3), activation = 'relu'))\n",
    "\n"
   ]
  },
  {
   "cell_type": "markdown",
   "metadata": {},
   "source": [
    "# Step 2 - Pooling\n"
   ]
  },
  {
   "cell_type": "code",
   "execution_count": 9,
   "metadata": {},
   "outputs": [],
   "source": [
    "classifier.add(MaxPooling2D(pool_size = (2, 2)))\n",
    "\n"
   ]
  },
  {
   "cell_type": "markdown",
   "metadata": {},
   "source": [
    "# Adding a second convolutional layer\n"
   ]
  },
  {
   "cell_type": "code",
   "execution_count": 10,
   "metadata": {},
   "outputs": [
    {
     "name": "stderr",
     "output_type": "stream",
     "text": [
      "C:\\ProgramData\\Anaconda3\\lib\\site-packages\\ipykernel_launcher.py:1: UserWarning: Update your `Conv2D` call to the Keras 2 API: `Conv2D(32, (3, 3), activation=\"relu\")`\n",
      "  \"\"\"Entry point for launching an IPython kernel.\n"
     ]
    }
   ],
   "source": [
    "classifier.add(Convolution2D(32, 3, 3, activation = 'relu'))\n",
    "classifier.add(MaxPooling2D(pool_size = (2, 2)))\n",
    "\n"
   ]
  },
  {
   "cell_type": "markdown",
   "metadata": {},
   "source": [
    "# Step 3 - Flattening\n"
   ]
  },
  {
   "cell_type": "code",
   "execution_count": 11,
   "metadata": {},
   "outputs": [],
   "source": [
    "classifier.add(Flatten())"
   ]
  },
  {
   "cell_type": "markdown",
   "metadata": {},
   "source": [
    "# Step 4 - Full connection"
   ]
  },
  {
   "cell_type": "code",
   "execution_count": 12,
   "metadata": {},
   "outputs": [
    {
     "name": "stderr",
     "output_type": "stream",
     "text": [
      "C:\\ProgramData\\Anaconda3\\lib\\site-packages\\ipykernel_launcher.py:1: UserWarning: Update your `Dense` call to the Keras 2 API: `Dense(activation=\"relu\", units=128)`\n",
      "  \"\"\"Entry point for launching an IPython kernel.\n",
      "C:\\ProgramData\\Anaconda3\\lib\\site-packages\\ipykernel_launcher.py:2: UserWarning: Update your `Dense` call to the Keras 2 API: `Dense(activation=\"sigmoid\", units=1)`\n",
      "  \n"
     ]
    }
   ],
   "source": [
    "classifier.add(Dense(output_dim = 128, activation = 'relu'))\n",
    "classifier.add(Dense(output_dim = 1, activation = 'sigmoid'))"
   ]
  },
  {
   "cell_type": "markdown",
   "metadata": {},
   "source": [
    "# Compiling the CNN"
   ]
  },
  {
   "cell_type": "code",
   "execution_count": 13,
   "metadata": {},
   "outputs": [],
   "source": [
    "classifier.compile(optimizer = 'adam', loss = 'binary_crossentropy', metrics = ['accuracy'])"
   ]
  },
  {
   "cell_type": "markdown",
   "metadata": {},
   "source": [
    "# Part 2 - Fitting the CNN to the images"
   ]
  },
  {
   "cell_type": "code",
   "execution_count": 14,
   "metadata": {},
   "outputs": [],
   "source": [
    "from keras.preprocessing.image import ImageDataGenerator\n",
    "\n",
    "train_datagen = ImageDataGenerator(rescale = 1./255,\n",
    "                                   shear_range = 0.2,\n",
    "                                   zoom_range = 0.2,\n",
    "                                   horizontal_flip = True)"
   ]
  },
  {
   "cell_type": "code",
   "execution_count": 15,
   "metadata": {},
   "outputs": [],
   "source": [
    "test_datagen = ImageDataGenerator(rescale = 1./255)"
   ]
  },
  {
   "cell_type": "code",
   "execution_count": 16,
   "metadata": {},
   "outputs": [
    {
     "name": "stdout",
     "output_type": "stream",
     "text": [
      "Found 8000 images belonging to 2 classes.\n"
     ]
    }
   ],
   "source": [
    "training_set = train_datagen.flow_from_directory('dataset/training_set',\n",
    "                                                 target_size = (64, 64),\n",
    "                                                 batch_size = 32,\n",
    "                                                 class_mode = 'binary')"
   ]
  },
  {
   "cell_type": "code",
   "execution_count": 17,
   "metadata": {},
   "outputs": [
    {
     "name": "stdout",
     "output_type": "stream",
     "text": [
      "Found 2000 images belonging to 2 classes.\n"
     ]
    }
   ],
   "source": [
    "test_set = test_datagen.flow_from_directory('dataset/test_set',\n",
    "                                            target_size = (64, 64),\n",
    "                                            batch_size = 32,\n",
    "                                            class_mode = 'binary')"
   ]
  },
  {
   "cell_type": "code",
   "execution_count": 18,
   "metadata": {},
   "outputs": [
    {
     "name": "stderr",
     "output_type": "stream",
     "text": [
      "C:\\ProgramData\\Anaconda3\\lib\\site-packages\\ipykernel_launcher.py:5: UserWarning: The semantics of the Keras 2 argument `steps_per_epoch` is not the same as the Keras 1 argument `samples_per_epoch`. `steps_per_epoch` is the number of batches to draw from the generator at each epoch. Basically steps_per_epoch = samples_per_epoch/batch_size. Similarly `nb_val_samples`->`validation_steps` and `val_samples`->`steps` arguments have changed. Update your method calls accordingly.\n",
      "  \"\"\"\n",
      "C:\\ProgramData\\Anaconda3\\lib\\site-packages\\ipykernel_launcher.py:5: UserWarning: Update your `fit_generator` call to the Keras 2 API: `fit_generator(<keras.pre..., validation_data=<keras.pre..., steps_per_epoch=250, epochs=25, validation_steps=2000)`\n",
      "  \"\"\"\n"
     ]
    },
    {
     "name": "stdout",
     "output_type": "stream",
     "text": [
      "Epoch 1/25\n",
      "250/250 [==============================] - 343s 1s/step - loss: 0.6866 - accuracy: 0.5558 - val_loss: 0.6706 - val_accuracy: 0.6190\n",
      "Epoch 2/25\n",
      "250/250 [==============================] - 259s 1s/step - loss: 0.6267 - accuracy: 0.6504 - val_loss: 0.6895 - val_accuracy: 0.6669\n",
      "Epoch 3/25\n",
      "250/250 [==============================] - 259s 1s/step - loss: 0.5706 - accuracy: 0.6973 - val_loss: 0.5386 - val_accuracy: 0.7364\n",
      "Epoch 4/25\n",
      "250/250 [==============================] - 258s 1s/step - loss: 0.5338 - accuracy: 0.7327 - val_loss: 0.3158 - val_accuracy: 0.7414\n",
      "Epoch 5/25\n",
      "250/250 [==============================] - 258s 1s/step - loss: 0.5144 - accuracy: 0.7483 - val_loss: 0.3320 - val_accuracy: 0.7590\n",
      "Epoch 6/25\n",
      "250/250 [==============================] - 258s 1s/step - loss: 0.4930 - accuracy: 0.7616 - val_loss: 0.5316 - val_accuracy: 0.7165\n",
      "Epoch 7/25\n",
      "250/250 [==============================] - 258s 1s/step - loss: 0.4712 - accuracy: 0.7730 - val_loss: 0.5389 - val_accuracy: 0.7613\n",
      "Epoch 8/25\n",
      "250/250 [==============================] - 258s 1s/step - loss: 0.4673 - accuracy: 0.7736 - val_loss: 0.3659 - val_accuracy: 0.7841\n",
      "Epoch 9/25\n",
      "250/250 [==============================] - 258s 1s/step - loss: 0.4440 - accuracy: 0.7881 - val_loss: 0.4164 - val_accuracy: 0.7765\n",
      "Epoch 10/25\n",
      "250/250 [==============================] - 261s 1s/step - loss: 0.4338 - accuracy: 0.7960 - val_loss: 0.6924 - val_accuracy: 0.7812\n",
      "Epoch 11/25\n",
      "250/250 [==============================] - 258s 1s/step - loss: 0.4132 - accuracy: 0.8066 - val_loss: 0.4050 - val_accuracy: 0.7863\n",
      "Epoch 12/25\n",
      "250/250 [==============================] - 257s 1s/step - loss: 0.4058 - accuracy: 0.8119 - val_loss: 0.6489 - val_accuracy: 0.7608\n",
      "Epoch 13/25\n",
      "250/250 [==============================] - 258s 1s/step - loss: 0.4021 - accuracy: 0.8142 - val_loss: 0.4405 - val_accuracy: 0.7566\n",
      "Epoch 14/25\n",
      "250/250 [==============================] - 258s 1s/step - loss: 0.3865 - accuracy: 0.8241 - val_loss: 0.3316 - val_accuracy: 0.7896\n",
      "Epoch 15/25\n",
      "250/250 [==============================] - 259s 1s/step - loss: 0.3690 - accuracy: 0.8307 - val_loss: 0.3250 - val_accuracy: 0.7985\n",
      "Epoch 16/25\n",
      "250/250 [==============================] - 258s 1s/step - loss: 0.3619 - accuracy: 0.8366 - val_loss: 0.5459 - val_accuracy: 0.7786\n",
      "Epoch 17/25\n",
      "250/250 [==============================] - 258s 1s/step - loss: 0.3503 - accuracy: 0.8441 - val_loss: 0.6007 - val_accuracy: 0.7851\n",
      "Epoch 18/25\n",
      "250/250 [==============================] - 258s 1s/step - loss: 0.3395 - accuracy: 0.8501 - val_loss: 0.5829 - val_accuracy: 0.7909\n",
      "Epoch 19/25\n",
      "250/250 [==============================] - 257s 1s/step - loss: 0.3227 - accuracy: 0.8564 - val_loss: 0.5553 - val_accuracy: 0.7947\n",
      "Epoch 20/25\n",
      "250/250 [==============================] - 258s 1s/step - loss: 0.3188 - accuracy: 0.8583 - val_loss: 0.5644 - val_accuracy: 0.7982\n",
      "Epoch 21/25\n",
      "250/250 [==============================] - 258s 1s/step - loss: 0.3005 - accuracy: 0.8714 - val_loss: 0.6469 - val_accuracy: 0.7930\n",
      "Epoch 22/25\n",
      "250/250 [==============================] - 258s 1s/step - loss: 0.2950 - accuracy: 0.8712 - val_loss: 0.9269 - val_accuracy: 0.7969\n",
      "Epoch 23/25\n",
      "250/250 [==============================] - 258s 1s/step - loss: 0.2797 - accuracy: 0.8855 - val_loss: 0.3404 - val_accuracy: 0.7975\n",
      "Epoch 24/25\n",
      "250/250 [==============================] - 259s 1s/step - loss: 0.2517 - accuracy: 0.8944 - val_loss: 0.9668 - val_accuracy: 0.7775\n",
      "Epoch 25/25\n",
      "250/250 [==============================] - 258s 1s/step - loss: 0.2528 - accuracy: 0.8964 - val_loss: 0.3812 - val_accuracy: 0.7844\n"
     ]
    },
    {
     "data": {
      "text/plain": [
       "<keras.callbacks.callbacks.History at 0x1c94ac2a8c8>"
      ]
     },
     "execution_count": 18,
     "metadata": {},
     "output_type": "execute_result"
    }
   ],
   "source": [
    "classifier.fit_generator(training_set,\n",
    "                         samples_per_epoch = 8000,\n",
    "                         nb_epoch = 25,\n",
    "                         validation_data = test_set,\n",
    "                         nb_val_samples = 2000)"
   ]
  },
  {
   "cell_type": "code",
   "execution_count": null,
   "metadata": {},
   "outputs": [],
   "source": []
  },
  {
   "cell_type": "code",
   "execution_count": null,
   "metadata": {},
   "outputs": [],
   "source": []
  },
  {
   "cell_type": "code",
   "execution_count": null,
   "metadata": {},
   "outputs": [],
   "source": []
  },
  {
   "cell_type": "code",
   "execution_count": null,
   "metadata": {},
   "outputs": [],
   "source": []
  }
 ],
 "metadata": {
  "kernelspec": {
   "display_name": "Python 3",
   "language": "python",
   "name": "python3"
  },
  "language_info": {
   "codemirror_mode": {
    "name": "ipython",
    "version": 3
   },
   "file_extension": ".py",
   "mimetype": "text/x-python",
   "name": "python",
   "nbconvert_exporter": "python",
   "pygments_lexer": "ipython3",
   "version": "3.7.4"
  }
 },
 "nbformat": 4,
 "nbformat_minor": 2
}
